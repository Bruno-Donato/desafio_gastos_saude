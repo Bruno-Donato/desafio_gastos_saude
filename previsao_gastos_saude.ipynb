{
 "cells": [
  {
   "attachments": {},
   "cell_type": "markdown",
   "metadata": {},
   "source": [
    "# Prevendo gastos em saúde com modelo de regressão linear<br>\n",
    "(https://www.freecodecamp.org/learn/machine-learning-with-python/machine-learning-with-python-projects/linear-regression-health-costs-calculator)\n",
    "\n",
    "Desafio encontrado no freecodecamp, com objetivo principal de usar modelo de regressão linear para prever gastos em saúde. Foram feitas análises exploratorias e um esboço de analise preditiva com modelos de regressão linear. Como curiosidade e para fins de também foram implementados outros modelos de preditivos e investigação mais aprofundada de variáveis.\n",
    "\n",
    "- Objetivo: utilizar modelo de regressão linear para prever de gastos em dolares em saúde da amostra\n",
    "\n",
    "- Erro médio absoluto (média dos erros entre valores preditos e valores reais) deve ser menor ou igual a 3500\n",
    "\n",
    "Qualquer sugestões e criticas construtivas são muito bem vindas."
   ]
  },
  {
   "attachments": {},
   "cell_type": "markdown",
   "metadata": {},
   "source": [
    "# 1.Importando bibliotecas"
   ]
  },
  {
   "cell_type": "code",
   "execution_count": 1,
   "metadata": {},
   "outputs": [],
   "source": [
    "# Análise e visualização de dados\n",
    "import matplotlib.pyplot as plt\n",
    "import numpy as np\n",
    "import pandas as pd\n",
    "import seaborn as sns\n",
    "import time\n",
    "\n",
    "# Pré-processamento\n",
    "from sklearn.impute import SimpleImputer\n",
    "from sklearn.pipeline import Pipeline\n",
    "from sklearn.compose import ColumnTransformer\n",
    "from sklearn.model_selection import train_test_split\n",
    "from sklearn.preprocessing import MinMaxScaler, StandardScaler, RobustScaler\n",
    "from sklearn.preprocessing import OneHotEncoder, PolynomialFeatures\n",
    "\n",
    "# Modelos e métricas\n",
    "import shap\n",
    "from sklearn import metrics\n",
    "from sklearn.svm import SVR\n",
    "from xgboost import XGBRegressor\n",
    "from sklearn.kernel_ridge import KernelRidge\n",
    "from sklearn.tree import DecisionTreeRegressor\n",
    "from sklearn.neural_network import MLPRegressor\n",
    "from sklearn.neighbors import KNeighborsRegressor\n",
    "from sklearn.ensemble import RandomForestRegressor, GradientBoostingRegressor\n",
    "from sklearn.linear_model import LinearRegression, LassoCV, RidgeCV, ElasticNetCV, SGDRegressor\n",
    "\n",
    "# Otimização de modelo\n",
    "from sklearn.inspection import permutation_importance\n",
    "from sklearn.model_selection import RandomizedSearchCV, GridSearchCV\n",
    "from sklearn.feature_selection import RFE, SelectKBest, SelectFromModel \n",
    "from sklearn.feature_selection import f_regression, mutual_info_regression\n",
    "\n",
    "# Rede neural\n",
    "import tensorflow as tf\n",
    "from tensorflow import keras\n",
    "from tensorflow.keras.metrics import Precision, Recall\n",
    "from tensorflow.keras.models import Sequential\n",
    "from tensorflow.keras.layers import Activation, Dense\n",
    "from tensorflow.keras.optimizers import Adam\n",
    "\n",
    "# Estilo de gráficos\n",
    "plt.style.use('ggplot')\n",
    "\n",
    "# Formatar saidas de tabelas\n",
    "pd.set_option('display.float_format', lambda x: '%.3f' % x)"
   ]
  },
  {
   "attachments": {},
   "cell_type": "markdown",
   "metadata": {},
   "source": [
    "# 2.Importando dataset e informações gerais"
   ]
  },
  {
   "cell_type": "code",
   "execution_count": 2,
   "metadata": {},
   "outputs": [],
   "source": [
    "df = pd.read_csv('data/gastos_saude.csv')"
   ]
  },
  {
   "attachments": {},
   "cell_type": "markdown",
   "metadata": {},
   "source": [
    "# 4.Pré-processamento"
   ]
  },
  {
   "attachments": {},
   "cell_type": "markdown",
   "metadata": {},
   "source": [
    "## Train test split"
   ]
  },
  {
   "cell_type": "code",
   "execution_count": 3,
   "metadata": {},
   "outputs": [],
   "source": [
    "X = df[['bmi', 'age', 'smoker']]\n",
    "Y = df['expenses']\n",
    "\n",
    "x_train, x_test, y_train, y_test = train_test_split(X, Y, test_size = 0.33, random_state = 42)"
   ]
  },
  {
   "attachments": {},
   "cell_type": "markdown",
   "metadata": {},
   "source": [
    "## Transformações e encodings"
   ]
  },
  {
   "cell_type": "code",
   "execution_count": 4,
   "metadata": {},
   "outputs": [],
   "source": [
    "numericas = x_train.select_dtypes('number').columns\n",
    "categoricas = x_train.select_dtypes('object').columns"
   ]
  },
  {
   "cell_type": "code",
   "execution_count": 5,
   "metadata": {},
   "outputs": [],
   "source": [
    "processador_num_1 = Pipeline([('s_scaler', StandardScaler())])\n",
    "\n",
    "processador_cat_1 = Pipeline([('ohe', OneHotEncoder(drop = \"if_binary\"))])\n",
    "\n",
    "preprocessador_1 = ColumnTransformer(transformers = [\n",
    "    (\"processador_num_1\", processador_num_1, numericas),\n",
    "    (\"processador_cat_1\", processador_cat_1, categoricas),\n",
    "    ], remainder = 'passthrough', verbose_feature_names_out=False)"
   ]
  },
  {
   "cell_type": "code",
   "execution_count": 6,
   "metadata": {},
   "outputs": [],
   "source": [
    "x_train_preproc = pd.DataFrame(preprocessador_1.fit_transform(x_train),\n",
    "                               columns = preprocessador_1.get_feature_names_out())\n",
    "\n",
    "x_test_preproc = pd.DataFrame(preprocessador_1.transform(x_test),\n",
    "                               columns = preprocessador_1.get_feature_names_out())"
   ]
  },
  {
   "attachments": {},
   "cell_type": "markdown",
   "metadata": {},
   "source": [
    "# 5.Modelagem"
   ]
  },
  {
   "attachments": {},
   "cell_type": "markdown",
   "metadata": {},
   "source": [
    "## Ridge"
   ]
  },
  {
   "attachments": {},
   "cell_type": "markdown",
   "metadata": {},
   "source": [
    "Com Ridge Regression o objetivo é minimizar o erro quadrático somado a uma penalização da soma dos coeficientes ao quadrado. Isso ajuda a evitar overfitting e reduzir a influência de coeficientes menos relevantes."
   ]
  },
  {
   "cell_type": "code",
   "execution_count": 7,
   "metadata": {},
   "outputs": [],
   "source": [
    "ridge0 = RidgeCV(cv = 5, alphas = [0.001, 0.01, 0.1, 1, 10, 100])\n",
    "ridge0.fit(x_train_preproc, y_train)\n",
    "y_pred_ridge0 = ridge0.predict(x_test_preproc)"
   ]
  },
  {
   "cell_type": "code",
   "execution_count": 8,
   "metadata": {},
   "outputs": [
    {
     "name": "stdout",
     "output_type": "stream",
     "text": [
      "==============================================\n",
      "Ridge Regression\n",
      "==============================================\n",
      "Intercepto: 8432.144\n",
      "----------------------------------------------\n",
      "Coeficientes\n",
      "bmi = 1978.61\n",
      "age = 3751.058\n",
      "smoker_yes = 23579.784\n",
      "----------------------------------------------\n",
      "R²: 0.743\n",
      "----------------------------------------------\n",
      "Erro quadrático médio: 35835719.158\n",
      "----------------------------------------------\n",
      "Erro absoluto médio: 4261.154\n",
      "==============================================\n"
     ]
    }
   ],
   "source": [
    "ridge0_intercept = ridge0.intercept_.round(3)\n",
    "ridge0_score = ridge0.score(x_train_preproc, y_train).round(3)\n",
    "ridge0_mse = metrics.mean_squared_error(y_test, y_pred_ridge0).round(3)\n",
    "ridge0_mae = metrics.mean_absolute_error(y_test, y_pred_ridge0).round(3)\n",
    "\n",
    "print(\"=\"*46)\n",
    "print(\"Ridge Regression\")\n",
    "print(\"=\"*46)\n",
    "print(f'Intercepto: {ridge0_intercept}')\n",
    "print(\"-\"*46)\n",
    "print('Coeficientes')\n",
    "for col_name, coef in zip(x_train_preproc.columns, ridge0.coef_):\n",
    "    print(col_name,'=', round(coef, 3))\n",
    "print(\"-\"*46)\n",
    "print(f'R²: {ridge0_score}')\n",
    "print(\"-\"*46)\n",
    "print(f'Erro quadrático médio: {ridge0_mse}')\n",
    "print(\"-\"*46)\n",
    "print(f'Erro absoluto médio: {ridge0_mae}')\n",
    "print(\"=\"*46)"
   ]
  },
  {
   "attachments": {},
   "cell_type": "markdown",
   "metadata": {},
   "source": [
    "Ainda temos um MAE acima do limite proposto."
   ]
  },
  {
   "attachments": {},
   "cell_type": "markdown",
   "metadata": {},
   "source": [
    "## Lasso"
   ]
  },
  {
   "attachments": {},
   "cell_type": "markdown",
   "metadata": {},
   "source": [
    "Com Lasso Regression o objetivo é minimizar o erro quadrático somado a uma penalização da soma dos valores absolutos dos coeficientes. Isso ajuda a evitar overfitting e a selecionar automaticamente as variáveis mais relevantes."
   ]
  },
  {
   "cell_type": "code",
   "execution_count": 9,
   "metadata": {},
   "outputs": [],
   "source": [
    "lasso0 = LassoCV()\n",
    "lasso0.fit(x_train_preproc, y_train)\n",
    "y_pred_lasso0 = lasso0.predict(x_test_preproc)"
   ]
  },
  {
   "cell_type": "code",
   "execution_count": 10,
   "metadata": {},
   "outputs": [
    {
     "name": "stdout",
     "output_type": "stream",
     "text": [
      "==============================================\n",
      "Lasso Regression\n",
      "==============================================\n",
      "Intercepto: 8403.632\n",
      "----------------------------------------------\n",
      "Coeficientes\n",
      "bmi = 1977.38\n",
      "age = 3754.329\n",
      "smoker_yes = 23715.672\n",
      "----------------------------------------------\n",
      "R²: 0.743\n",
      "----------------------------------------------\n",
      "Erro quadrático médio: 35821057.118\n",
      "----------------------------------------------\n",
      "Erro absoluto médio: 4250.041\n",
      "==============================================\n"
     ]
    }
   ],
   "source": [
    "lasso0_intercept = lasso0.intercept_.round(3)\n",
    "lasso0_score = lasso0.score(x_train_preproc, y_train).round(3)\n",
    "lasso0_mse = metrics.mean_squared_error(y_test, y_pred_lasso0).round(3)\n",
    "lasso0_mae = metrics.mean_absolute_error(y_test, y_pred_lasso0).round(3)\n",
    "\n",
    "print(\"=\"*46)\n",
    "print(\"Lasso Regression\")\n",
    "print(\"=\"*46)\n",
    "print(f'Intercepto: {lasso0_intercept}')\n",
    "print(\"-\"*46)\n",
    "print('Coeficientes')\n",
    "for col_name, coef in zip(x_train_preproc.columns, lasso0.coef_):\n",
    "    print(col_name,'=', round(coef, 3))\n",
    "print(\"-\"*46)\n",
    "print(f'R²: {lasso0_score}')\n",
    "print(\"-\"*46)\n",
    "print(f'Erro quadrático médio: {lasso0_mse}')\n",
    "print(\"-\"*46)\n",
    "print(f'Erro absoluto médio: {lasso0_mae}')\n",
    "print(\"=\"*46)"
   ]
  },
  {
   "attachments": {},
   "cell_type": "markdown",
   "metadata": {},
   "source": [
    "Continuamos com MAE acima do aceitável."
   ]
  },
  {
   "attachments": {},
   "cell_type": "markdown",
   "metadata": {},
   "source": [
    "## Elastic Net"
   ]
  },
  {
   "attachments": {},
   "cell_type": "markdown",
   "metadata": {},
   "source": [
    "Com Elastic Net combinamos a penalização de Ridge e Lasso em uma única regressão, com um parâmetro de mistura que controla o grau de ambas as penalizações. Isso ajuda a lidar com problemas em que há multicolinearidade e muitas variáveis irrelevantes."
   ]
  },
  {
   "cell_type": "code",
   "execution_count": 11,
   "metadata": {},
   "outputs": [],
   "source": [
    "enet0 = ElasticNetCV()\n",
    "enet0.fit(x_train_preproc, y_train)\n",
    "y_pred_enet0 = enet0.predict(x_test_preproc)"
   ]
  },
  {
   "cell_type": "code",
   "execution_count": 12,
   "metadata": {},
   "outputs": [
    {
     "name": "stdout",
     "output_type": "stream",
     "text": [
      "==============================================\n",
      "Elastic Net\n",
      "==============================================\n",
      "Intercepto: 13177.839\n",
      "----------------------------------------------\n",
      "Coeficientes\n",
      "bmi = 449.919\n",
      "age = 712.044\n",
      "smoker_yes = 962.007\n",
      "----------------------------------------------\n",
      "R²: 0.092\n",
      "----------------------------------------------\n",
      "Erro quadrático médio: 132283181.902\n",
      "----------------------------------------------\n",
      "Erro absoluto médio: 8846.293\n",
      "==============================================\n"
     ]
    }
   ],
   "source": [
    "enet0_intercept = enet0.intercept_.round(3)\n",
    "enet0_score = enet0.score(x_train_preproc, y_train).round(3)\n",
    "enet0_mse = metrics.mean_squared_error(y_test, y_pred_enet0).round(3)\n",
    "enet0_mae = metrics.mean_absolute_error(y_test, y_pred_enet0).round(3)\n",
    "\n",
    "print(\"=\"*46)\n",
    "print(\"Elastic Net\")\n",
    "print(\"=\"*46)\n",
    "print(f'Intercepto: {enet0_intercept}')\n",
    "print(\"-\"*46)\n",
    "print('Coeficientes')\n",
    "for col_name, coef in zip(x_train_preproc.columns, enet0.coef_):\n",
    "    print(col_name,'=', round(coef, 3))\n",
    "print(\"-\"*46)\n",
    "print(f'R²: {enet0_score}')\n",
    "print(\"-\"*46)\n",
    "print(f'Erro quadrático médio: {enet0_mse}')\n",
    "print(\"-\"*46)\n",
    "print(f'Erro absoluto médio: {enet0_mae}')\n",
    "print(\"=\"*46)"
   ]
  },
  {
   "attachments": {},
   "cell_type": "markdown",
   "metadata": {},
   "source": [
    "Como resultado temos um MAE muito acima do aceitável. Devemos talvez investigar otimização de hiperparametros dos 3 modelos anteriores."
   ]
  },
  {
   "attachments": {},
   "cell_type": "markdown",
   "metadata": {},
   "source": [
    "## Gradiente Descendente"
   ]
  },
  {
   "attachments": {},
   "cell_type": "markdown",
   "metadata": {},
   "source": [
    "Com gradiente descendente queremos minimizar a função de perda (como o erro quadrático) usando o método de gradiente descendente, que ajusta os coeficientes iterativamente para minimizar a função de perda. A versão estocástica usa amostras aleatórias do conjunto de treinamento para atualizar os coeficientes, o que torna o processo mais rápido e escalável para conjuntos de dados grandes."
   ]
  },
  {
   "cell_type": "code",
   "execution_count": 13,
   "metadata": {},
   "outputs": [],
   "source": [
    "sgdr0 = SGDRegressor()\n",
    "sgdr0.fit(x_train_preproc, y_train)\n",
    "y_pred_sgdr0 = sgdr0.predict(x_test_preproc)"
   ]
  },
  {
   "cell_type": "code",
   "execution_count": 14,
   "metadata": {},
   "outputs": [
    {
     "name": "stdout",
     "output_type": "stream",
     "text": [
      "==============================================\n",
      "Gradiente Descendente\n",
      "==============================================\n",
      "Intercepto: [8404.412]\n",
      "----------------------------------------------\n",
      "Coeficientes\n",
      "bmi = 1984.465\n",
      "age = 3783.987\n",
      "smoker_yes = 23673.074\n",
      "----------------------------------------------\n",
      "R²: 0.743\n",
      "----------------------------------------------\n",
      "Erro quadrático médio: 35841230.435\n",
      "----------------------------------------------\n",
      "Erro absoluto médio: 4255.338\n",
      "==============================================\n"
     ]
    }
   ],
   "source": [
    "sgdr0_intercept = sgdr0.intercept_.round(3)\n",
    "sgdr0_score = sgdr0.score(x_train_preproc, y_train).round(3)\n",
    "sgdr0_mse = metrics.mean_squared_error(y_test, y_pred_sgdr0).round(3)\n",
    "sgdr0_mae = metrics.mean_absolute_error(y_test, y_pred_sgdr0).round(3)\n",
    "\n",
    "print(\"=\"*46)\n",
    "print(\"Gradiente Descendente\")\n",
    "print(\"=\"*46)\n",
    "print(f'Intercepto: {sgdr0_intercept}')\n",
    "print(\"-\"*46)\n",
    "print('Coeficientes')\n",
    "for col_name, coef in zip(x_train_preproc.columns, sgdr0.coef_):\n",
    "    print(col_name,'=', round(coef, 3))\n",
    "print(\"-\"*46)\n",
    "print(f'R²: {sgdr0_score}')\n",
    "print(\"-\"*46)\n",
    "print(f'Erro quadrático médio: {sgdr0_mse}')\n",
    "print(\"-\"*46)\n",
    "print(f'Erro absoluto médio: {sgdr0_mae}')\n",
    "print(\"=\"*46)"
   ]
  },
  {
   "attachments": {},
   "cell_type": "markdown",
   "metadata": {},
   "source": [
    "Temos um modelo que performa discretamente melhor do que os anteriores, mas ainda acima do aceitável."
   ]
  },
  {
   "attachments": {},
   "cell_type": "markdown",
   "metadata": {},
   "source": [
    "## Decision Tree Regressor"
   ]
  },
  {
   "attachments": {},
   "cell_type": "markdown",
   "metadata": {},
   "source": [
    "Usando Decision Tree Regressor dividimos recursivamente os dados em subconjuntos com base em variáveis e valores de corte que maximizam a pureza dos subconjuntos em relação à variável de destino. Isso cria uma estrutura de árvore de decisão que pode ser usada para prever a variável de destino para novos dados."
   ]
  },
  {
   "cell_type": "code",
   "execution_count": 15,
   "metadata": {},
   "outputs": [],
   "source": [
    "treeregr0 = DecisionTreeRegressor(max_depth=3)\n",
    "treeregr0.fit(x_train_preproc, y_train)\n",
    "y_pred_treeregr0 = treeregr0.predict(x_test_preproc)"
   ]
  },
  {
   "cell_type": "code",
   "execution_count": 16,
   "metadata": {},
   "outputs": [
    {
     "name": "stdout",
     "output_type": "stream",
     "text": [
      "==============================================\n",
      "Decision Tree Regressor\n",
      "==============================================\n",
      "R²: 0.859\n",
      "----------------------------------------------\n",
      "Erro quadrático médio: 24288654.491\n",
      "----------------------------------------------\n",
      "Erro absoluto médio: 2933.291\n",
      "==============================================\n"
     ]
    }
   ],
   "source": [
    "# treeregr0_intercept = treeregr0.intercept_.round(3)\n",
    "treeregr0_score = treeregr0.score(x_train_preproc, y_train).round(3)\n",
    "treeregr0_mse = metrics.mean_squared_error(y_test, y_pred_treeregr0).round(3)\n",
    "treeregr0_mae = metrics.mean_absolute_error(y_test, y_pred_treeregr0).round(3)\n",
    "\n",
    "print(\"=\"*46)\n",
    "print(\"Decision Tree Regressor\")\n",
    "print(\"=\"*46)\n",
    "print(f'R²: {treeregr0_score}')\n",
    "print(\"-\"*46)\n",
    "print(f'Erro quadrático médio: {treeregr0_mse}')\n",
    "print(\"-\"*46)\n",
    "print(f'Erro absoluto médio: {treeregr0_mae}')\n",
    "print(\"=\"*46)"
   ]
  },
  {
   "attachments": {},
   "cell_type": "markdown",
   "metadata": {},
   "source": [
    "Sendo um modelo mais complexo já podemos observar MAE abaixo do limite estabelecido."
   ]
  },
  {
   "attachments": {},
   "cell_type": "markdown",
   "metadata": {},
   "source": [
    "## Random Forest Regressor"
   ]
  },
  {
   "attachments": {},
   "cell_type": "markdown",
   "metadata": {},
   "source": [
    "Nesse caso criamos um conjunto de árvores de decisão usando amostras aleatórias do conjunto de treinamento e variáveis aleatórias para dividir os nós da árvore. Isso ajuda a reduzir a variância e o overfitting em comparação com uma única árvore de decisão."
   ]
  },
  {
   "cell_type": "code",
   "execution_count": 17,
   "metadata": {},
   "outputs": [],
   "source": [
    "rndr0 = RandomForestRegressor(max_depth=3)\n",
    "rndr0.fit(x_train_preproc, y_train)\n",
    "y_pred_rndr0 = rndr0.predict(x_test_preproc)"
   ]
  },
  {
   "cell_type": "code",
   "execution_count": 18,
   "metadata": {},
   "outputs": [
    {
     "name": "stdout",
     "output_type": "stream",
     "text": [
      "==============================================\n",
      "Random Forest Regressor\n",
      "==============================================\n",
      "R²: 0.864\n",
      "----------------------------------------------\n",
      "Erro quadrático médio: 21933394.938\n",
      "----------------------------------------------\n",
      "Erro absoluto médio: 2765.858\n",
      "==============================================\n"
     ]
    }
   ],
   "source": [
    "# rndr0_intercept = rndr0.intercept_.round(3)\n",
    "rndr0_score = rndr0.score(x_train_preproc, y_train).round(3)\n",
    "rndr0_mse = metrics.mean_squared_error(y_test, y_pred_rndr0).round(3)\n",
    "rndr0_mae = metrics.mean_absolute_error(y_test, y_pred_rndr0).round(3)\n",
    "\n",
    "print(\"=\"*46)\n",
    "print(\"Random Forest Regressor\")\n",
    "print(\"=\"*46)\n",
    "print(f'R²: {rndr0_score}')\n",
    "print(\"-\"*46)\n",
    "print(f'Erro quadrático médio: {rndr0_mse}')\n",
    "print(\"-\"*46)\n",
    "print(f'Erro absoluto médio: {rndr0_mae}')\n",
    "print(\"=\"*46)"
   ]
  },
  {
   "attachments": {},
   "cell_type": "markdown",
   "metadata": {},
   "source": [
    "Com random forest também observamos resultados melhores."
   ]
  },
  {
   "attachments": {},
   "cell_type": "markdown",
   "metadata": {},
   "source": [
    "## Gradient Boosting Regressor"
   ]
  },
  {
   "attachments": {},
   "cell_type": "markdown",
   "metadata": {},
   "source": [
    "Nesse modelo é criado conjunto de árvores de decisão que sejam ajustadas iterativamente aos resíduos da árvore anterior, minimizando a função de perda (como o erro quadrático). Isso ajuda a melhorar a precisão da previsão e a reduzir o overfitting."
   ]
  },
  {
   "cell_type": "code",
   "execution_count": 19,
   "metadata": {},
   "outputs": [],
   "source": [
    "gbr0 = GradientBoostingRegressor()\n",
    "gbr0.fit(x_train_preproc, y_train)\n",
    "y_pred_gbr0 = gbr0.predict(x_test_preproc)"
   ]
  },
  {
   "cell_type": "code",
   "execution_count": 20,
   "metadata": {},
   "outputs": [
    {
     "name": "stdout",
     "output_type": "stream",
     "text": [
      "==============================================\n",
      "Gradient Boost Regressor\n",
      "==============================================\n",
      "R²: 0.895\n",
      "----------------------------------------------\n",
      "Erro quadrático médio: 21984855.899\n",
      "----------------------------------------------\n",
      "Erro absoluto médio: 2648.382\n",
      "==============================================\n"
     ]
    }
   ],
   "source": [
    "# gbr0_intercept = gbr0.intercept_.round(3)\n",
    "gbr0_score = gbr0.score(x_train_preproc, y_train).round(3)\n",
    "gbr0_mse = metrics.mean_squared_error(y_test, y_pred_gbr0).round(3)\n",
    "gbr0_mae = metrics.mean_absolute_error(y_test, y_pred_gbr0).round(3)\n",
    "\n",
    "print(\"=\"*46)\n",
    "print(\"Gradient Boost Regressor\")\n",
    "print(\"=\"*46)\n",
    "print(f'R²: {gbr0_score}')\n",
    "print(\"-\"*46)\n",
    "print(f'Erro quadrático médio: {gbr0_mse}')\n",
    "print(\"-\"*46)\n",
    "print(f'Erro absoluto médio: {gbr0_mae}')\n",
    "print(\"=\"*46)"
   ]
  },
  {
   "attachments": {},
   "cell_type": "markdown",
   "metadata": {},
   "source": [
    "Temos até agora o melhor modelo."
   ]
  },
  {
   "attachments": {},
   "cell_type": "markdown",
   "metadata": {},
   "source": [
    "## Multilayer Perceptron (MLP) - SKLEARN"
   ]
  },
  {
   "attachments": {},
   "cell_type": "markdown",
   "metadata": {},
   "source": [
    "Aqui estamos lidando com um modelo estremamente poderoso, baseado em redes neurais, no qual o objetivo é criar uma rede neural artificial com várias camadas de neurônios interconectados, com o objetivo de prever uma variável de destino. Cada camada usa uma função de ativação para transformar a entrada em uma saída e a saída é propagada para a próxima camada. O MLP usa backpropagation para ajustar os pesos da rede para minimizar a função de perda (como o erro quadrático)."
   ]
  },
  {
   "cell_type": "code",
   "execution_count": 21,
   "metadata": {},
   "outputs": [
    {
     "name": "stderr",
     "output_type": "stream",
     "text": [
      "Stochastic Optimizer: Maximum iterations (1000) reached and the optimization hasn't converged yet.\n"
     ]
    }
   ],
   "source": [
    "mlp0 = MLPRegressor(hidden_layer_sizes=(100, 50), max_iter=1000, random_state=42)\n",
    "mlp0.fit(x_train_preproc, y_train)\n",
    "y_pred_mlp0 = mlp0.predict(x_test_preproc)"
   ]
  },
  {
   "cell_type": "code",
   "execution_count": 22,
   "metadata": {},
   "outputs": [
    {
     "name": "stdout",
     "output_type": "stream",
     "text": [
      "==============================================\n",
      "Multilayer Perceptron - SKLEARN\n",
      "==============================================\n",
      "R²: 0.794\n",
      "----------------------------------------------\n",
      "Erro quadrático médio: 28546671.804\n",
      "----------------------------------------------\n",
      "Erro absoluto médio: 3525.067\n",
      "==============================================\n"
     ]
    }
   ],
   "source": [
    "# mlp0_intercept = mlp0.intercept_.round(3)\n",
    "mlp0_score = mlp0.score(x_train_preproc, y_train).round(3)\n",
    "mlp0_mse = metrics.mean_squared_error(y_test, y_pred_mlp0).round(3)\n",
    "mlp0_mae = metrics.mean_absolute_error(y_test, y_pred_mlp0).round(3)\n",
    "\n",
    "print(\"=\"*46)\n",
    "print(\"Multilayer Perceptron - SKLEARN\")\n",
    "print(\"=\"*46)\n",
    "print(f'R²: {mlp0_score}')\n",
    "print(\"-\"*46)\n",
    "print(f'Erro quadrático médio: {mlp0_mse}')\n",
    "print(\"-\"*46)\n",
    "print(f'Erro absoluto médio: {mlp0_mae}')\n",
    "print(\"=\"*46)"
   ]
  },
  {
   "attachments": {},
   "cell_type": "markdown",
   "metadata": {},
   "source": [
    "Mesmo um modelo básico sem muitos ajustes ja nos da um resultado dentro dos limites estipulados."
   ]
  },
  {
   "attachments": {},
   "cell_type": "markdown",
   "metadata": {},
   "source": [
    "## Radial Basis Function (RBF)"
   ]
  },
  {
   "attachments": {},
   "cell_type": "markdown",
   "metadata": {},
   "source": [
    "Temos aqui outro modelo utilizando redes neurais no qual o objetivo é criar uma rede neural artificial que usa funções de base radial para transformar as entradas em uma saída. As funções de base radial são centradas em pontos específicos no espaço de entrada e usam a distância Euclidiana entre os pontos de entrada e o centro para determinar a saída da função. A rede usa backpropagation para ajustar os pesos da rede para minimizar a função de perda (como o erro quadrático)."
   ]
  },
  {
   "cell_type": "code",
   "execution_count": 23,
   "metadata": {},
   "outputs": [],
   "source": [
    "rbf0 = KernelRidge(kernel='rbf')\n",
    "rbf0.fit(x_train_preproc, y_train)\n",
    "y_pred_rbf0 = rbf0.predict(x_test_preproc)"
   ]
  },
  {
   "cell_type": "code",
   "execution_count": 24,
   "metadata": {},
   "outputs": [
    {
     "name": "stdout",
     "output_type": "stream",
     "text": [
      "==============================================\n",
      "Radial Basis Function\n",
      "==============================================\n",
      "R²: 0.844\n",
      "----------------------------------------------\n",
      "Erro quadrático médio: 25871893.895\n",
      "----------------------------------------------\n",
      "Erro absoluto médio: 2930.043\n",
      "==============================================\n"
     ]
    }
   ],
   "source": [
    "# rbf0_intercept = rbf0.intercept_.round(3)\n",
    "rbf0_score = rbf0.score(x_train_preproc, y_train).round(3)\n",
    "rbf0_mse = metrics.mean_squared_error(y_test, y_pred_rbf0).round(3)\n",
    "rbf0_mae = metrics.mean_absolute_error(y_test, y_pred_rbf0).round(3)\n",
    "\n",
    "print(\"=\"*46)\n",
    "print(\"Radial Basis Function\")\n",
    "print(\"=\"*46)\n",
    "print(f'R²: {rbf0_score}')\n",
    "print(\"-\"*46)\n",
    "print(f'Erro quadrático médio: {rbf0_mse}')\n",
    "print(\"-\"*46)\n",
    "print(f'Erro absoluto médio: {rbf0_mae}')\n",
    "print(\"=\"*46)"
   ]
  },
  {
   "attachments": {},
   "cell_type": "markdown",
   "metadata": {},
   "source": [
    "Também temos um resultado adequado mesmo com um modelo sem ajuste de hiperparametros."
   ]
  },
  {
   "cell_type": "markdown",
   "metadata": {},
   "source": [
    "## Rede neural (Keras/Tensorflow)"
   ]
  },
  {
   "cell_type": "code",
   "execution_count": 60,
   "metadata": {},
   "outputs": [],
   "source": [
    "X = df.drop(columns = ['expenses'])\n",
    "Y = df['expenses']\n",
    "\n",
    "X_train, X_test, y_train, y_test = train_test_split(X, Y,\n",
    "                                                    test_size=0.3,\n",
    "                                                    random_state=42)"
   ]
  },
  {
   "cell_type": "code",
   "execution_count": 61,
   "metadata": {},
   "outputs": [],
   "source": [
    "num_cols = X_train.select_dtypes('number').columns\n",
    "cat_cols = X_train.select_dtypes(exclude = 'number').columns"
   ]
  },
  {
   "cell_type": "code",
   "execution_count": 62,
   "metadata": {},
   "outputs": [],
   "source": [
    "preprocessamento_numericas = Pipeline([\n",
    "    ('imputer',SimpleImputer(strategy='median')),\n",
    "    ('escala_features',StandardScaler())\n",
    "])\n",
    "preprocessamento_categoricas = Pipeline([\n",
    "    ('imputer',SimpleImputer(strategy='most_frequent')),\n",
    "    ('encoder',OneHotEncoder(drop='if_binary'))\n",
    "])"
   ]
  },
  {
   "cell_type": "code",
   "execution_count": 63,
   "metadata": {},
   "outputs": [],
   "source": [
    "preprocessador_final = ColumnTransformer(transformers=[\n",
    "    ('processamento_numericas',preprocessamento_numericas,num_cols),\n",
    "    ('processamento_categoricas',preprocessamento_categoricas,cat_cols),\n",
    "],remainder='passthrough',verbose_feature_names_out=False)\n",
    "\n",
    "dados_treino_prep = pd.DataFrame(preprocessador_final.fit_transform(X_train),\n",
    "                                 columns=preprocessador_final.get_feature_names_out())\n",
    "\n",
    "dados_teste_prep = pd.DataFrame(preprocessador_final.fit_transform(X_test),\n",
    "                                columns=preprocessador_final.get_feature_names_out())"
   ]
  },
  {
   "cell_type": "code",
   "execution_count": 64,
   "metadata": {},
   "outputs": [],
   "source": [
    "train_samples = np.array(dados_treino_prep).astype('float32')\n",
    "train_labels = np.array(y_train).astype('float32')\n",
    "\n",
    "test_samples = np.array(dados_teste_prep).astype('float32')\n",
    "test_labels = np.array(y_test).astype('float32')"
   ]
  },
  {
   "cell_type": "code",
   "execution_count": 65,
   "metadata": {},
   "outputs": [],
   "source": [
    "model = Sequential([\n",
    "    Dense(units = 16, input_shape = (9,), activation = 'relu'),\n",
    "    Dense(units = 32, activation = 'relu'),\n",
    "    Dense(units = 1, activation = 'linear')\n",
    "])"
   ]
  },
  {
   "cell_type": "code",
   "execution_count": 66,
   "metadata": {},
   "outputs": [],
   "source": [
    "model.compile(optimizer = Adam(learning_rate=0.05), loss = 'mean_squared_error', metrics = ['mae'])"
   ]
  },
  {
   "cell_type": "code",
   "execution_count": 67,
   "metadata": {},
   "outputs": [
    {
     "name": "stdout",
     "output_type": "stream",
     "text": [
      "Epoch 1/50\n"
     ]
    },
    {
     "name": "stdout",
     "output_type": "stream",
     "text": [
      "85/85 [==============================] - 2s 4ms/step - loss: 176461504.0000 - mae: 9513.6064 - val_loss: 62032264.0000 - val_mae: 6074.8237\n",
      "Epoch 2/50\n",
      "85/85 [==============================] - 0s 3ms/step - loss: 46917408.0000 - mae: 5088.2065 - val_loss: 35457888.0000 - val_mae: 4094.1699\n",
      "Epoch 3/50\n",
      "85/85 [==============================] - 0s 3ms/step - loss: 38814724.0000 - mae: 4278.6631 - val_loss: 34354200.0000 - val_mae: 4086.7280\n",
      "Epoch 4/50\n",
      "85/85 [==============================] - 0s 2ms/step - loss: 37306892.0000 - mae: 4167.8628 - val_loss: 34308648.0000 - val_mae: 3909.4087\n",
      "Epoch 5/50\n",
      "85/85 [==============================] - 0s 3ms/step - loss: 37703820.0000 - mae: 4158.4580 - val_loss: 35095596.0000 - val_mae: 3548.0659\n",
      "Epoch 6/50\n",
      "85/85 [==============================] - 0s 3ms/step - loss: 34523752.0000 - mae: 3906.3123 - val_loss: 30940618.0000 - val_mae: 3538.5911\n",
      "Epoch 7/50\n",
      "85/85 [==============================] - 0s 2ms/step - loss: 32348690.0000 - mae: 3716.2930 - val_loss: 32440990.0000 - val_mae: 3407.6768\n",
      "Epoch 8/50\n",
      "85/85 [==============================] - 0s 2ms/step - loss: 31580224.0000 - mae: 3498.5037 - val_loss: 29403266.0000 - val_mae: 3402.3015\n",
      "Epoch 9/50\n",
      "85/85 [==============================] - 0s 2ms/step - loss: 31637390.0000 - mae: 3507.3472 - val_loss: 31063988.0000 - val_mae: 3283.5532\n",
      "Epoch 10/50\n",
      "85/85 [==============================] - 0s 2ms/step - loss: 29405252.0000 - mae: 3337.4778 - val_loss: 27584732.0000 - val_mae: 3328.9456\n",
      "Epoch 11/50\n",
      "85/85 [==============================] - 0s 2ms/step - loss: 28938092.0000 - mae: 3289.5706 - val_loss: 28065124.0000 - val_mae: 3109.6960\n",
      "Epoch 12/50\n",
      "85/85 [==============================] - 0s 4ms/step - loss: 28199736.0000 - mae: 3172.6006 - val_loss: 27370674.0000 - val_mae: 3125.2427\n",
      "Epoch 13/50\n",
      "85/85 [==============================] - 0s 3ms/step - loss: 27274106.0000 - mae: 3099.7112 - val_loss: 27856778.0000 - val_mae: 3077.0913\n",
      "Epoch 14/50\n",
      "85/85 [==============================] - 0s 2ms/step - loss: 27971858.0000 - mae: 3154.2751 - val_loss: 26825194.0000 - val_mae: 3162.6799\n",
      "Epoch 15/50\n",
      "85/85 [==============================] - 0s 2ms/step - loss: 26355938.0000 - mae: 2968.7405 - val_loss: 27377092.0000 - val_mae: 3255.9292\n",
      "Epoch 16/50\n",
      "85/85 [==============================] - 0s 2ms/step - loss: 26288850.0000 - mae: 2996.6907 - val_loss: 27833284.0000 - val_mae: 3036.4824\n",
      "Epoch 17/50\n",
      "85/85 [==============================] - 0s 2ms/step - loss: 27478802.0000 - mae: 3077.2854 - val_loss: 29281308.0000 - val_mae: 2982.9314\n",
      "Epoch 18/50\n",
      "85/85 [==============================] - 0s 3ms/step - loss: 25691314.0000 - mae: 3089.9009 - val_loss: 26785428.0000 - val_mae: 3408.7170\n",
      "Epoch 19/50\n",
      "85/85 [==============================] - 0s 3ms/step - loss: 26454790.0000 - mae: 3037.3813 - val_loss: 26240460.0000 - val_mae: 3063.4478\n",
      "Epoch 20/50\n",
      "85/85 [==============================] - 0s 2ms/step - loss: 25850478.0000 - mae: 2921.0449 - val_loss: 31479444.0000 - val_mae: 2942.1021\n",
      "Epoch 21/50\n",
      "85/85 [==============================] - 0s 2ms/step - loss: 25682684.0000 - mae: 2932.2490 - val_loss: 26592890.0000 - val_mae: 3432.1414\n",
      "Epoch 22/50\n",
      "85/85 [==============================] - 0s 2ms/step - loss: 25374202.0000 - mae: 3038.9253 - val_loss: 27838496.0000 - val_mae: 3038.7537\n",
      "Epoch 23/50\n",
      "85/85 [==============================] - 0s 2ms/step - loss: 25515886.0000 - mae: 2926.7117 - val_loss: 26201700.0000 - val_mae: 3353.9092\n",
      "Epoch 24/50\n",
      "85/85 [==============================] - 0s 2ms/step - loss: 25226354.0000 - mae: 3055.7339 - val_loss: 26553010.0000 - val_mae: 3467.3962\n",
      "Epoch 25/50\n",
      "85/85 [==============================] - 0s 3ms/step - loss: 26005212.0000 - mae: 2974.3691 - val_loss: 26546854.0000 - val_mae: 3325.7800\n",
      "Epoch 26/50\n",
      "85/85 [==============================] - 0s 2ms/step - loss: 25260208.0000 - mae: 2959.7969 - val_loss: 27464488.0000 - val_mae: 3057.0386\n",
      "Epoch 27/50\n",
      "85/85 [==============================] - 0s 2ms/step - loss: 25211526.0000 - mae: 2868.6294 - val_loss: 26281786.0000 - val_mae: 3614.0288\n",
      "Epoch 28/50\n",
      "85/85 [==============================] - 0s 3ms/step - loss: 25423164.0000 - mae: 3073.3333 - val_loss: 26776882.0000 - val_mae: 3456.3904\n",
      "Epoch 29/50\n",
      "85/85 [==============================] - 0s 5ms/step - loss: 26489294.0000 - mae: 3109.9028 - val_loss: 26562574.0000 - val_mae: 3221.3804\n",
      "Epoch 30/50\n",
      "85/85 [==============================] - 0s 2ms/step - loss: 25787880.0000 - mae: 3013.7224 - val_loss: 26600002.0000 - val_mae: 2983.4109\n",
      "Epoch 31/50\n",
      "85/85 [==============================] - 0s 2ms/step - loss: 25089408.0000 - mae: 2979.2354 - val_loss: 26724970.0000 - val_mae: 3082.4106\n",
      "Epoch 32/50\n",
      "85/85 [==============================] - 0s 2ms/step - loss: 25131586.0000 - mae: 2935.7698 - val_loss: 27592908.0000 - val_mae: 3159.1030\n",
      "Epoch 33/50\n",
      "85/85 [==============================] - 0s 2ms/step - loss: 25694744.0000 - mae: 2974.8137 - val_loss: 26232146.0000 - val_mae: 3512.2786\n",
      "Epoch 34/50\n",
      "85/85 [==============================] - 0s 2ms/step - loss: 25150198.0000 - mae: 3016.6365 - val_loss: 26882328.0000 - val_mae: 3571.0562\n",
      "Epoch 35/50\n",
      "85/85 [==============================] - 0s 2ms/step - loss: 24674494.0000 - mae: 3014.2019 - val_loss: 26370638.0000 - val_mae: 3241.8557\n",
      "Epoch 36/50\n",
      "85/85 [==============================] - 0s 3ms/step - loss: 25059140.0000 - mae: 2912.7468 - val_loss: 27813288.0000 - val_mae: 3096.2407\n",
      "Epoch 37/50\n",
      "85/85 [==============================] - 0s 2ms/step - loss: 25462378.0000 - mae: 2996.6169 - val_loss: 31700926.0000 - val_mae: 3037.5054\n",
      "Epoch 38/50\n",
      "85/85 [==============================] - 0s 2ms/step - loss: 25451752.0000 - mae: 3036.6719 - val_loss: 27677010.0000 - val_mae: 3130.8752\n",
      "Epoch 39/50\n",
      "85/85 [==============================] - 0s 2ms/step - loss: 25808026.0000 - mae: 3007.2605 - val_loss: 26238402.0000 - val_mae: 3255.8013\n",
      "Epoch 40/50\n",
      "85/85 [==============================] - 0s 2ms/step - loss: 24326358.0000 - mae: 2869.4639 - val_loss: 30025630.0000 - val_mae: 3080.9226\n",
      "Epoch 41/50\n",
      "85/85 [==============================] - 0s 2ms/step - loss: 25074314.0000 - mae: 2959.4080 - val_loss: 26556664.0000 - val_mae: 3341.2913\n",
      "Epoch 42/50\n",
      "85/85 [==============================] - 0s 2ms/step - loss: 24820276.0000 - mae: 2911.3066 - val_loss: 27083646.0000 - val_mae: 3187.5930\n",
      "Epoch 43/50\n",
      "85/85 [==============================] - 0s 2ms/step - loss: 24580578.0000 - mae: 2833.4685 - val_loss: 26650518.0000 - val_mae: 3650.3843\n",
      "Epoch 44/50\n",
      "85/85 [==============================] - 0s 2ms/step - loss: 26624710.0000 - mae: 3189.4885 - val_loss: 26539126.0000 - val_mae: 3298.4607\n",
      "Epoch 45/50\n",
      "85/85 [==============================] - 0s 2ms/step - loss: 24742856.0000 - mae: 2839.7129 - val_loss: 27137828.0000 - val_mae: 3655.5852\n",
      "Epoch 46/50\n",
      "85/85 [==============================] - 0s 2ms/step - loss: 25149038.0000 - mae: 3020.6355 - val_loss: 26813988.0000 - val_mae: 3542.9990\n",
      "Epoch 47/50\n",
      "85/85 [==============================] - 0s 2ms/step - loss: 24853236.0000 - mae: 2867.7793 - val_loss: 26879862.0000 - val_mae: 3188.0095\n",
      "Epoch 48/50\n",
      "85/85 [==============================] - 0s 2ms/step - loss: 24968904.0000 - mae: 3026.2786 - val_loss: 27414130.0000 - val_mae: 3313.2593\n",
      "Epoch 49/50\n",
      "85/85 [==============================] - 0s 2ms/step - loss: 25821570.0000 - mae: 2945.1873 - val_loss: 27801594.0000 - val_mae: 3153.7800\n",
      "Epoch 50/50\n",
      "85/85 [==============================] - 0s 3ms/step - loss: 24636856.0000 - mae: 3007.1699 - val_loss: 27465780.0000 - val_mae: 3211.5615\n"
     ]
    },
    {
     "data": {
      "text/plain": [
       "<keras.callbacks.History at 0x26f493b66b0>"
      ]
     },
     "execution_count": 67,
     "metadata": {},
     "output_type": "execute_result"
    }
   ],
   "source": [
    "model.fit(x = train_samples, y = train_labels, batch_size=10, validation_split=0.1, \n",
    "          epochs = 50, shuffle = True, verbose = True)"
   ]
  },
  {
   "cell_type": "code",
   "execution_count": 68,
   "metadata": {},
   "outputs": [],
   "source": [
    "predictions = model.predict(x = test_samples, batch_size=10, verbose = 0)"
   ]
  },
  {
   "cell_type": "code",
   "execution_count": 69,
   "metadata": {},
   "outputs": [
    {
     "name": "stdout",
     "output_type": "stream",
     "text": [
      " 1/13 [=>............................] - ETA: 0s - loss: 10948852.0000 - mae: 2334.3726"
     ]
    },
    {
     "name": "stdout",
     "output_type": "stream",
     "text": [
      "13/13 [==============================] - 0s 2ms/step - loss: 20556272.0000 - mae: 2615.2454\n"
     ]
    }
   ],
   "source": [
    "mse, mae = model.evaluate(x=test_samples, y=test_labels)"
   ]
  },
  {
   "cell_type": "code",
   "execution_count": 70,
   "metadata": {},
   "outputs": [
    {
     "name": "stdout",
     "output_type": "stream",
     "text": [
      "MSE: 20556272.0\n",
      "MAE: 2615.245361328125\n"
     ]
    }
   ],
   "source": [
    "print(f\"MSE: {mse}\")\n",
    "print(f\"MAE: {mae}\")"
   ]
  },
  {
   "attachments": {},
   "cell_type": "markdown",
   "metadata": {},
   "source": [
    "## Features influentes"
   ]
  },
  {
   "attachments": {},
   "cell_type": "markdown",
   "metadata": {},
   "source": [
    "### SHapley Additive exPlanations (SHAP) "
   ]
  },
  {
   "attachments": {},
   "cell_type": "markdown",
   "metadata": {},
   "source": [
    "Os recursos anteriores estão disponíveis para os modelos mais \"expliáveis\", aqueles que são mais facilmente interpretáveis.<br>\n",
    "Porém temos modelos chamados de caixa preta, no qual não conseguimos explicar de maneira clara as decisões que o modelo tomou para chegar ao resultado, como XGBoost, redes neurais, random forest, etc.<br>\n",
    "Porém temos alguns recursos como LIME (Local Interpretable Model-Agnostic Explanations) e SHAP (SHapley Additive exPlanations), este ultimo baseado em teoria dos jogos. O objetivo do SHAP atribuir uma contribuição relativa a cada variável de entrada para a saída do modelo, de modo que seja possível entender como as decisões do modelo foram tomadas.\n",
    "Nesse caso a técnica foi utilizada para fins de estudo."
   ]
  },
  {
   "cell_type": "code",
   "execution_count": 71,
   "metadata": {},
   "outputs": [
    {
     "ename": "NameError",
     "evalue": "name 'reglin0' is not defined",
     "output_type": "error",
     "traceback": [
      "\u001b[1;31m---------------------------------------------------------------------------\u001b[0m",
      "\u001b[1;31mNameError\u001b[0m                                 Traceback (most recent call last)",
      "Cell \u001b[1;32mIn[71], line 2\u001b[0m\n\u001b[0;32m      1\u001b[0m \u001b[39m# Criar um objeto \"explicador\" usando os dados de treino\u001b[39;00m\n\u001b[1;32m----> 2\u001b[0m explainer \u001b[39m=\u001b[39m shap\u001b[39m.\u001b[39mExplainer(reglin0, x_train_preproc)\n\u001b[0;32m      4\u001b[0m \u001b[39m# Computar valores SHAP para dados de teste\u001b[39;00m\n\u001b[0;32m      5\u001b[0m shap_values \u001b[39m=\u001b[39m explainer(x_test_preproc)\n",
      "\u001b[1;31mNameError\u001b[0m: name 'reglin0' is not defined"
     ]
    }
   ],
   "source": [
    "# Criar um objeto \"explicador\" usando os dados de treino\n",
    "explainer = shap.Explainer(reglin0, x_train_preproc)\n",
    "\n",
    "# Computar valores SHAP para dados de teste\n",
    "shap_values = explainer(x_test_preproc)\n",
    "\n",
    "# Plotar predição para o modelo\n",
    "shap.summary_plot(shap_values, x_test_preproc, title = \"Importancia das features para o modelo - SHAP\")\n"
   ]
  },
  {
   "attachments": {},
   "cell_type": "markdown",
   "metadata": {},
   "source": [
    "Podemos observar pelo gráfico que o maior impacto do modelo estão, novamente, nas variáveis:\n",
    "- tabagismo\n",
    "- idade\n",
    "- IMC"
   ]
  },
  {
   "cell_type": "code",
   "execution_count": null,
   "metadata": {},
   "outputs": [
    {
     "data": {
      "image/png": "[encoded data removed]",
      "text/plain": [
       "<Figure size 800x600 with 3 Axes>"
      ]
     },
     "metadata": {},
     "output_type": "display_data"
    }
   ],
   "source": [
    "# Plotar valores SHAP para uma predição\n",
    "shap.plots.waterfall(shap_values[1])"
   ]
  },
  {
   "attachments": {},
   "cell_type": "markdown",
   "metadata": {},
   "source": [
    "## Otimizando modelo"
   ]
  },
  {
   "attachments": {},
   "cell_type": "markdown",
   "metadata": {},
   "source": [
    "Nosso modelo pode ser melhorado tanto pela retirada de features que, causam ruído e limitam a performance do modelo, quanto otimizando hiperparametros do modelo utilizado.<br>\n",
    "<br>"
   ]
  },
  {
   "attachments": {},
   "cell_type": "markdown",
   "metadata": {},
   "source": [
    "# 6.Conclusão"
   ]
  },
  {
   "attachments": {},
   "cell_type": "markdown",
   "metadata": {},
   "source": [
    "Com uma função polinomial de grau III conseguimos implementar um modelo relativamente simples para resolver o problema. Observamos também que isso é possivel com modelos mais elaborados e robustos, porrém devemos ter cuidado pois alguns modelos podem tender mais facilmente ao overfitting e são computacionalmente mais caros.\n",
    "Então se tivermos um modelo simples que atenda as nossas expectativas e resolva nosso problema de forma satisfatória sem sombra de duúvidas podemos utiliza-lo ganhando também em explicabilidade e agilidade."
   ]
  },
  {
   "attachments": {},
   "cell_type": "markdown",
   "metadata": {},
   "source": [
    "# Referências"
   ]
  },
  {
   "attachments": {},
   "cell_type": "markdown",
   "metadata": {},
   "source": [
    "- https://towardsdatascience.com/shap-explain-any-machine-learning-model-in-python-72f0bea35f7c\n",
    "\n",
    "- https://betterdatascience.com/shap/\n",
    "\n",
    "- https://scikit-learn.org/stable/auto_examples/inspection/plot_permutation_importance.html\n",
    "\n",
    "- https://github.com/smazzanti/mrmr\n",
    "\n",
    "- https://machinelearningmastery.com/data-preparation-without-data-leakage/\n",
    "\n",
    "- https://towardsdatascience.com/implement-gradient-descent-in-python-9b93ed7108d1\n",
    "\n",
    "- https://betterdatascience.com/shap/"
   ]
  }
 ],
 "metadata": {
  "kernelspec": {
   "display_name": "venv",
   "language": "python",
   "name": "python3"
  },
  "language_info": {
   "codemirror_mode": {
    "name": "ipython",
    "version": 3
   },
   "file_extension": ".py",
   "mimetype": "text/x-python",
   "name": "python",
   "nbconvert_exporter": "python",
   "pygments_lexer": "ipython3",
   "version": "3.10.4"
  },
  "orig_nbformat": 4
 },
 "nbformat": 4,
 "nbformat_minor": 2
}
